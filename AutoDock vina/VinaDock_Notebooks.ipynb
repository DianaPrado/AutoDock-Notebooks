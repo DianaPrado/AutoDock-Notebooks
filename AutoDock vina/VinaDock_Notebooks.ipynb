{
  "nbformat": 4,
  "nbformat_minor": 0,
  "metadata": {
    "colab": {
      "provenance": [],
      "mount_file_id": "1axA-hqJ3jfekLSU9FJHtg73NTUtuE4vA",
      "authorship_tag": "ABX9TyMvCu71hQ8wLBhvTH7Be0GS",
      "include_colab_link": true
    },
    "kernelspec": {
      "name": "python3",
      "display_name": "Python 3"
    },
    "language_info": {
      "name": "python"
    }
  },
  "cells": [
    {
      "cell_type": "markdown",
      "metadata": {
        "id": "view-in-github",
        "colab_type": "text"
      },
      "source": [
        "<a href=\"https://colab.research.google.com/github/mabdelmaksoud53/VinaDock-Notebooks/blob/main/VinaDock_Notebooks.ipynb\" target=\"_parent\"><img src=\"https://colab.research.google.com/assets/colab-badge.svg\" alt=\"Open In Colab\"/></a>"
      ]
    },
    {
      "cell_type": "markdown",
      "source": [
        "# **Cloud-based molecular docking for everyone**\n",
        "# **Free Palestine** <a> <img src=\"https://img.icons8.com/?size=100&id=56525&format=png&color=000000\" align = center width=\"40\" alt=\"Free Palestine\">\n",
        "</a>\n",
        "\n",
        "## Hello there!\n",
        "###### This is a Jupyter notebook for running Molecular Docking using AutoDock vina software. I am encourage you to watch the tutorial bellow before using this pipeline.\n",
        "###### The main goal of this notebook is to demonstrate how to perform molecular docking using an open source software in a cheap and yet feasible fashion 🚀.\n",
        "\n",
        "---\n",
        "**Bugs**\n",
        "- If you encounter any bugs, please report the issue to https://github.com/mabdelmaksoud53/VinaDock-Notebooks/issues\n",
        "\n",
        "**Author**\n",
        "- This notebook is created by ([**Mostafa S. Abd El-Maksoud**](https://github.com/mabdelmaksoud53))\n",
        "\n",
        "\n",
        "\n",
        "\n",
        "**Introduction**\n",
        "- AutoDock Vina is a widely used open-source docking engine known for its speed and efficiency. Developed by Dr. Oleg Trott in the Molecular Graphics Lab, it employs a straightforward scoring function and rapid gradient-based conformational search. The Forli Lab at The Scripps Research Institute currently maintains and develops this powerful tool.\n",
        "\n"
      ],
      "metadata": {
        "id": "qAu-wyiaM4Ii"
      }
    },
    {
      "cell_type": "markdown",
      "source": [
        "### **Setting the environment for Molecular Docking**\n",
        "Firstly, we need to install vina package for docking calculations.\n",
        "\n",
        "1. AutoDock (https://vina.scripps.edu/wp-content/uploads/sites/55/2020/12/autodock_vina_1_1_2_linux_x86.tgz)"
      ],
      "metadata": {
        "id": "ykoGG2SzYRAf"
      }
    },
    {
      "cell_type": "code",
      "source": [
        "#@title **Install Dependencies**\n",
        "#@markdown Install AutoDock vina\n",
        "!apt-get -qq install -y autodock-vina\n",
        "print(\"AutoDock vina installed successfuly\")"
      ],
      "metadata": {
        "id": "Qn-Aez3JDvLm",
        "cellView": "form"
      },
      "execution_count": null,
      "outputs": []
    },
    {
      "cell_type": "code",
      "source": [
        "#@title **Mount Google Drive and creat Docking folder**\n",
        "#@markdown it will ask you to authorize your drive, Plz confirm\n",
        "from google.colab import drive\n",
        "drive.mount ('/content/drive')\n",
        "print(\"Google Drive mounted successfully\")"
      ],
      "metadata": {
        "id": "ykVYm6_ED5qx",
        "cellView": "form"
      },
      "execution_count": null,
      "outputs": []
    },
    {
      "cell_type": "code",
      "source": [
        "#@title Create a docking Folder in Google Drive\n",
        "#@markdown when you run this code it will ask you to enter your desired name\n",
        "# Ask the user for the folder name\n",
        "folder_name = input(\"Enter the desired folder name: \")\n",
        "\n",
        "# Create the folder\n",
        "import os\n",
        "os.makedirs(f'/content/drive/My Drive/{folder_name}')\n",
        "folder_path = f'/content/drive/My Drive/{folder_name}'\n",
        "print(f\"Folder '{folder_name}' created successfully!\")\n",
        "\n",
        "# Change the current working directory to the newly created folder\n",
        "os.chdir(folder_path)\n",
        "print(f\"Current working directory is: {os.getcwd()}\")\n"
      ],
      "metadata": {
        "cellView": "form",
        "id": "9IzmqFoldEH3"
      },
      "execution_count": null,
      "outputs": []
    },
    {
      "cell_type": "code",
      "source": [
        "#@title Upload Ligand and Protein Files to Google Drive\n",
        "#@markdown 1. Upload ligand file in PDBQT format.\n",
        "#@markdown 2. Upload the protein file in PDBQT format.\n",
        "from google.colab import files\n",
        "uploaded = files.upload()\n",
        "uploaded = files.upload()\n",
        "print(\"Ligand and protein uploaded successfuly\")"
      ],
      "metadata": {
        "cellView": "form",
        "id": "Qhsbh4frgBdi"
      },
      "execution_count": null,
      "outputs": []
    },
    {
      "cell_type": "code",
      "execution_count": null,
      "metadata": {
        "id": "zRSDOyzvCJeG",
        "cellView": "form"
      },
      "outputs": [],
      "source": [
        "#@title **Define the ligand and protein**\n",
        "#@markdown go to your drive and copy the path of uploaded protein and ligand\n",
        "receptor_file = input('Enter the protein path: ')\n",
        "ligand_file = input('Enter the ligand path: ')"
      ]
    },
    {
      "cell_type": "code",
      "source": [
        "#@title **adjust grif-box parameters**\n",
        "#@markdown enter grid box center, size, exhaustiveness, and Number of Modes\n",
        "center_x = input('center_x: ')\n",
        "center_y = input('center_y: ')\n",
        "center_z = input('center_z: ')\n",
        "size_x = input('size_x: ')\n",
        "size_y = input('size_y: ')\n",
        "size_z = input('size_z: ')\n",
        "exhaustiveness = input('Number of exhaustiveness: ')\n",
        "num_modes = input('Number of modes: ')"
      ],
      "metadata": {
        "id": "-H7w5KouC7Qa",
        "cellView": "form"
      },
      "execution_count": null,
      "outputs": []
    },
    {
      "cell_type": "code",
      "source": [
        "#@title **Run AutoDock vina**\n",
        "#@markdown after docking process finish navigate your drive you will fined the output and log file\n",
        "!vina --receptor \"$receptor_file\" --ligand \"$ligand_file\" \\\n",
        "--center_x \"$center_x\" --center_y \"$center_y\" --center_z \"$center_z\" \\\n",
        "--size_x \"$size_x\" --size_y \"$size_y\" --size_z \"$size_z\" \\\n",
        "--exhaustiveness \"$exhaustiveness\" --num_modes \"$num_modes\" --cpu 8 \\\n",
        "--out lig_pro_output.pdbqt --verbosity 1 > lig_prot_log.txt\n",
        "print(\"Docking completed successfuly\")\n",
        "print(\"Check the Output and Log files in Google Drive\")"
      ],
      "metadata": {
        "id": "l9AYC8AiC9ak",
        "cellView": "form"
      },
      "execution_count": null,
      "outputs": []
    }
  ]
}