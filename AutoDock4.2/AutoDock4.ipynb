{
  "nbformat": 4,
  "nbformat_minor": 0,
  "metadata": {
    "colab": {
      "provenance": [],
      "gpuType": "T4",
      "authorship_tag": "ABX9TyMxP9jBuDeP0KjDxGOX5aoA",
      "include_colab_link": true
    },
    "kernelspec": {
      "name": "python3",
      "display_name": "Python 3"
    },
    "language_info": {
      "name": "python"
    },
    "accelerator": "GPU"
  },
  "cells": [
    {
      "cell_type": "markdown",
      "metadata": {
        "id": "view-in-github",
        "colab_type": "text"
      },
      "source": [
        "<a href=\"https://colab.research.google.com/github/mabdelmaksoud53/VinaDock-Notebooks/blob/main/AutoDock4_2.ipynb\" target=\"_parent\"><img src=\"https://colab.research.google.com/assets/colab-badge.svg\" alt=\"Open In Colab\"/></a>"
      ]
    },
    {
      "cell_type": "markdown",
      "source": [
        "\n",
        "## Hello there!\n",
        "- This is a Jupyter notebook for running Molecular Docking using AutoDock4.2 software. I am encourage you to watch the tutorial before using this pipeline.\n",
        "- The main goal of this notebook is to demonstrate how to perform molecular docking using an open source software in a cheap and yet feasible fashion 🚀.\n",
        "---\n",
        "\n",
        "**Introduction**\n",
        "\n",
        "AutoDock 4.2 is a widely used molecular docking software that predicts how small molecules, such as substrates or drug candidates, bind to a receptor of known 3D structure. Its robust algorithms and proven reliability make it a staple in computational chemistry and drug discovery. AutoDock 4.2 employs a Lamarckian Genetic Algorithm to explore the conformational space of the ligand, resulting in accurate and efficient predictions of ligand-receptor interactions.\n",
        "\n",
        "\n",
        "**Importance of Ligand-Protein Docking Using AutoDock 4.2**\n",
        "- AutoDock 4.2 is extensively used in the early stages of drug discovery to predict how small molecules interact with biological targets . This predictive capability is critical for identifying promising drug candidates.\n",
        "- AutoDock 4.2 provides scoring functions to estimate the binding affinity between ligands and proteins. This helps prioritize compounds with the highest potential efficacy for further development.\n",
        "- By simulating the docking process, AutoDock 4.2 helps researchers understand the molecular interactions between ligands and target proteins, including hydrogen bonding, hydrophobic interactions, and electrostatic forces.\n",
        "- The detailed structural insights gained from docking simulations enable rational drug design. Researchers can modify ligands to enhance binding affinity and specificity based on the observed interactions.\n",
        "- AutoDock 4.2 allows the virtual screening of large compound libraries against target proteins, significantly accelerating the identification of potential lead compounds compared to traditional experimental methods.\n",
        "- Performing in silico docking with AutoDock 4.2 reduces the need for expensive and time-consuming experimental assays in the early stages of drug discovery, making the research process more cost-effective.\n",
        "- AutoDock 4.2 can handle multiple ligands and target proteins, making it suitable for high-throughput virtual screening applications.\n",
        "- The software provides detailed information on possible binding modes of a ligand within a protein's binding site, helping researchers identify the most favorable orientations and conformations.\n",
        "- Once potential lead compounds are identified, docking can be used iteratively to optimize their structures for improved activity, selectivity, and pharmacokinetic properties.\n",
        "- Docking can help predict potential off-target interactions, aiding in the identification of side effects and improving the safety profile of drug candidates.\n",
        "---\n",
        "\n",
        "**License**\n",
        "\n",
        "Copyright (c) 2024 Mostafa S. Abd El-Maksoud"
      ],
      "metadata": {
        "id": "Wn_N2SZAXDGp"
      }
    },
    {
      "cell_type": "markdown",
      "source": [
        "---\n",
        "### **Setting the environment for Molecular Docking**\n",
        "Firstly, we need to install AutoDock4.2 package that include both (AutoDock and AutoGrid) for docking calculations.\n",
        "\n",
        "1. AutoDock4.2 (https://autodock.scripps.edu/)"
      ],
      "metadata": {
        "id": "Fq3Po5oKX3KO"
      }
    },
    {
      "cell_type": "code",
      "source": [
        "#@title **Install Dependencies**\n",
        "#@markdown Install AutoDock4.2\n",
        "!apt-get -qq install -y autodock\n",
        "print(\"AutoDock4.2 installed successfuly\")"
      ],
      "metadata": {
        "cellView": "form",
        "id": "D8d15k8fUKOi"
      },
      "execution_count": null,
      "outputs": []
    },
    {
      "cell_type": "markdown",
      "source": [
        "# **Using Google Drive to store data**\n",
        "\n",
        "We can use Google Drive to read, write, and store our files because Google Colab does not allow users to keep data on their computing nodes.\n",
        "Therfore we will:\n",
        "1.   Import Google Drive.\n",
        "2.   Create a folder in your own Google Drive to store and keep data."
      ],
      "metadata": {
        "id": "2vKKmdDDN4tW"
      }
    },
    {
      "cell_type": "code",
      "source": [
        "#@title **Mount Google Drive and creat Docking folder**\n",
        "#@markdown it will ask you to authorize your drive, Plz confirm\n",
        "from google.colab import drive\n",
        "drive.mount ('/content/drive')\n",
        "print(\"Google Drive mounted successfully\")"
      ],
      "metadata": {
        "cellView": "form",
        "id": "Uofa7_P0UQ6G"
      },
      "execution_count": null,
      "outputs": []
    },
    {
      "cell_type": "code",
      "source": [
        "#@title Create a docking Folder in Google Drive\n",
        "#@markdown when you run this code it will ask you to enter your desired name\n",
        "# Ask the user for the folder name\n",
        "folder_name = input(\"Enter the desired folder name: \")\n",
        "\n",
        "# Create the folder\n",
        "import os\n",
        "os.makedirs(f'/content/drive/My Drive/{folder_name}')\n",
        "folder_path = f'/content/drive/My Drive/{folder_name}'\n",
        "print(f\"Folder '{folder_name}' created successfully!\")\n",
        "\n",
        "# Change the current working directory to the newly created folder\n",
        "os.chdir(folder_path)\n",
        "print(f\"Current working directory is: {os.getcwd()}\")\n"
      ],
      "metadata": {
        "cellView": "form",
        "id": "SRxgxlocUVZq"
      },
      "execution_count": null,
      "outputs": []
    },
    {
      "cell_type": "code",
      "source": [
        "#@title Upload Ligand and Protein Files to Google Drive\n",
        "#@markdown 1. Upload ligand file in PDBQT format.\n",
        "#@markdown 2. Upload the protein file in PDBQT format.\n",
        "#@markdown 2. Upload the grid-parameter file in gpf format.\n",
        "#@markdown 2. Upload the docking-parameter file in dpf format.\n",
        "from google.colab import files\n",
        "uploaded = files.upload()\n",
        "uploaded = files.upload()\n",
        "uploaded = files.upload()\n",
        "uploaded = files.upload()\n",
        "print(\"Ligand and protein uploaded successfuly\")"
      ],
      "metadata": {
        "cellView": "form",
        "id": "S9BXg7bhUkAf"
      },
      "execution_count": null,
      "outputs": []
    },
    {
      "cell_type": "code",
      "source": [
        "#@title Run AutoGrid\n",
        "#@markdown Autogrid will use the grid parameter file to generate grid log files\n",
        "!autogrid4 -p receptor.gpf -l receptor.glg\n",
        "print('grid parameter files generated successfuly')"
      ],
      "metadata": {
        "cellView": "form",
        "id": "MpdG6L0bVF9E"
      },
      "execution_count": null,
      "outputs": []
    },
    {
      "cell_type": "code",
      "source": [
        "#@title Run AutoDock\n",
        "#@markdown AutoDock will use the docking parameter file to generate docking log file that contain the docking poses and docking score\n",
        "!autodock4 -p receptor.dpf -l receptor.dlg\n",
        "print('docking log file generated successfuly')\n",
        "print('Done')"
      ],
      "metadata": {
        "cellView": "form",
        "id": "vll9u4cxVp8I"
      },
      "execution_count": null,
      "outputs": []
    },
    {
      "cell_type": "code",
      "source": [
        "#@title Download the docking log file\n",
        "#@markdown download the receptor file and the log file to your local machine to be able to visualize the docking results\n",
        "from google.colab import files\n",
        "files.download('receptor.dlg')\n",
        "files.download('receptor.pdbqt')\n",
        "print('files downloaded successfuly')"
      ],
      "metadata": {
        "colab": {
          "base_uri": "https://localhost:8080/",
          "height": 17
        },
        "cellView": "form",
        "id": "heza6pthWLP7",
        "outputId": "0d049ed8-ff0a-40fe-b92f-cc8e0a5eccc7"
      },
      "execution_count": null,
      "outputs": [
        {
          "output_type": "display_data",
          "data": {
            "text/plain": [
              "<IPython.core.display.Javascript object>"
            ],
            "application/javascript": [
              "\n",
              "    async function download(id, filename, size) {\n",
              "      if (!google.colab.kernel.accessAllowed) {\n",
              "        return;\n",
              "      }\n",
              "      const div = document.createElement('div');\n",
              "      const label = document.createElement('label');\n",
              "      label.textContent = `Downloading \"${filename}\": `;\n",
              "      div.appendChild(label);\n",
              "      const progress = document.createElement('progress');\n",
              "      progress.max = size;\n",
              "      div.appendChild(progress);\n",
              "      document.body.appendChild(div);\n",
              "\n",
              "      const buffers = [];\n",
              "      let downloaded = 0;\n",
              "\n",
              "      const channel = await google.colab.kernel.comms.open(id);\n",
              "      // Send a message to notify the kernel that we're ready.\n",
              "      channel.send({})\n",
              "\n",
              "      for await (const message of channel.messages) {\n",
              "        // Send a message to notify the kernel that we're ready.\n",
              "        channel.send({})\n",
              "        if (message.buffers) {\n",
              "          for (const buffer of message.buffers) {\n",
              "            buffers.push(buffer);\n",
              "            downloaded += buffer.byteLength;\n",
              "            progress.value = downloaded;\n",
              "          }\n",
              "        }\n",
              "      }\n",
              "      const blob = new Blob(buffers, {type: 'application/binary'});\n",
              "      const a = document.createElement('a');\n",
              "      a.href = window.URL.createObjectURL(blob);\n",
              "      a.download = filename;\n",
              "      div.appendChild(a);\n",
              "      a.click();\n",
              "      div.remove();\n",
              "    }\n",
              "  "
            ]
          },
          "metadata": {}
        },
        {
          "output_type": "display_data",
          "data": {
            "text/plain": [
              "<IPython.core.display.Javascript object>"
            ],
            "application/javascript": [
              "download(\"download_ca6e288a-0038-431c-a4b7-6a7df670d9e7\", \"receptor.dlg\", 59722)"
            ]
          },
          "metadata": {}
        }
      ]
    }
  ]
}