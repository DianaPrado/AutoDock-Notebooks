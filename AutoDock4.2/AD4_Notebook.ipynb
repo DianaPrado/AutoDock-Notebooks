{
  "nbformat": 4,
  "nbformat_minor": 0,
  "metadata": {
    "colab": {
      "provenance": [],
      "gpuType": "T4",
      "authorship_tag": "ABX9TyOmgusM+s5j4kjUo26VcIlz",
      "include_colab_link": true
    },
    "kernelspec": {
      "name": "python3",
      "display_name": "Python 3"
    },
    "language_info": {
      "name": "python"
    },
    "accelerator": "GPU"
  },
  "cells": [
    {
      "cell_type": "markdown",
      "metadata": {
        "id": "view-in-github",
        "colab_type": "text"
      },
      "source": [
        "<a href=\"https://colab.research.google.com/github/mabdelmaksoud53/VinaDock-Notebooks/blob/main/AD4_Notebook.ipynb\" target=\"_parent\"><img src=\"https://colab.research.google.com/assets/colab-badge.svg\" alt=\"Open In Colab\"/></a>"
      ]
    },
    {
      "cell_type": "markdown",
      "source": [
        "# **Cloud-based molecular docking for everyone**\n",
        "\n",
        "# **Free Palestine** <a> <img src=\"https://img.icons8.com/?size=100&id=56525&format=png&color=000000\" align = center width=\"40\" alt=\"Free Palestine\">\n",
        "</a>\n",
        "\n",
        "---\n",
        "## Hello there!\n",
        "###### This is a Jupyter notebook for running Molecular Docking using AutoDock4.2 software. I am encourage you to watch the tutorial before using this pipeline.\n",
        "###### The main goal of this notebook is to demonstrate how to perform molecular docking using an open source software in a cheap and yet feasible fashion 🚀.\n",
        "\n",
        "---\n",
        "**Bugs**\n",
        "- If you encounter any bugs, please report the issue to https://github.com/mabdelmaksoud53/VinaDock-Notebooks/issues\n",
        "\n",
        "---\n",
        "**Author**\n",
        "- This notebook is created by ([**Mostafa S. Abd El-Maksoud**](https://github.com/mabdelmaksoud53))\n",
        "\n",
        "---\n",
        "**Introduction**\n",
        "AutoDock 4.2 is a widely used molecular docking software that predicts how small molecules, such as substrates or drug candidates, bind to a receptor of known 3D structure. Its robust algorithms and proven reliability make it a staple in computational chemistry and drug discovery. AutoDock 4.2 employs a Lamarckian Genetic Algorithm to explore the conformational space of the ligand, resulting in accurate and efficient predictions of ligand-receptor interactions.\n"
      ],
      "metadata": {
        "id": "Wn_N2SZAXDGp"
      }
    },
    {
      "cell_type": "markdown",
      "source": [
        "---\n",
        "### **Setting the environment for Molecular Docking**\n",
        "Firstly, we need to install AutoDock4.2 package that include both (AutoDock and AutoGrid) for docking calculations.\n",
        "\n",
        "1. AutoDock4.2 (https://autodock.scripps.edu/wp-content/uploads/sites/56/2021/10/autodocksuite-4.2.6-x86_64Linux2.tar)"
      ],
      "metadata": {
        "id": "Fq3Po5oKX3KO"
      }
    },
    {
      "cell_type": "code",
      "source": [
        "#@title **Install Dependencies**\n",
        "#@markdown Install AutoDock4.2\n",
        "!apt-get -qq install -y autodock\n",
        "print(\"AutoDock4.2 installed successfuly\")"
      ],
      "metadata": {
        "cellView": "form",
        "id": "D8d15k8fUKOi"
      },
      "execution_count": null,
      "outputs": []
    },
    {
      "cell_type": "code",
      "source": [
        "#@title **Mount Google Drive and creat Docking folder**\n",
        "#@markdown it will ask you to authorize your drive, Plz confirm\n",
        "from google.colab import drive\n",
        "drive.mount ('/content/drive')\n",
        "print(\"Google Drive mounted successfully\")"
      ],
      "metadata": {
        "cellView": "form",
        "id": "Uofa7_P0UQ6G"
      },
      "execution_count": null,
      "outputs": []
    },
    {
      "cell_type": "code",
      "source": [
        "#@title Create a docking Folder in Google Drive\n",
        "#@markdown when you run this code it will ask you to enter your desired name\n",
        "# Ask the user for the folder name\n",
        "folder_name = input(\"Enter the desired folder name: \")\n",
        "\n",
        "# Create the folder\n",
        "import os\n",
        "os.makedirs(f'/content/drive/My Drive/{folder_name}')\n",
        "folder_path = f'/content/drive/My Drive/{folder_name}'\n",
        "print(f\"Folder '{folder_name}' created successfully!\")\n",
        "\n",
        "# Change the current working directory to the newly created folder\n",
        "os.chdir(folder_path)\n",
        "print(f\"Current working directory is: {os.getcwd()}\")\n"
      ],
      "metadata": {
        "cellView": "form",
        "id": "SRxgxlocUVZq"
      },
      "execution_count": null,
      "outputs": []
    },
    {
      "cell_type": "code",
      "source": [
        "#@title Upload Ligand and Protein Files to Google Drive\n",
        "#@markdown 1. Upload ligand file in PDBQT format.\n",
        "#@markdown 2. Upload the protein file in PDBQT format.\n",
        "#@markdown 2. Upload the grid-parameter file in gpf format.\n",
        "#@markdown 2. Upload the docking-parameter file in dpf format.\n",
        "from google.colab import files\n",
        "uploaded = files.upload()\n",
        "uploaded = files.upload()\n",
        "uploaded = files.upload()\n",
        "uploaded = files.upload()\n",
        "print(\"Ligand and protein uploaded successfuly\")"
      ],
      "metadata": {
        "cellView": "form",
        "id": "S9BXg7bhUkAf"
      },
      "execution_count": null,
      "outputs": []
    },
    {
      "cell_type": "code",
      "source": [
        "#@title Run AutoGrid\n",
        "#@markdown Autogrid will use the grid parameter file to generate grid log files\n",
        "!autogrid4 -p receptor.gpf -l receptor.glg\n",
        "print('grid parameter files generated successfuly')"
      ],
      "metadata": {
        "cellView": "form",
        "id": "MpdG6L0bVF9E"
      },
      "execution_count": null,
      "outputs": []
    },
    {
      "cell_type": "code",
      "source": [
        "#@title Run AutoDock\n",
        "#@markdown AutoDock will use the docking parameter file to generate docking log file that contain the docking poses and docking score\n",
        "!autodock4 -p receptor.dpf -l receptor.dlg\n",
        "print('docking log file generated successfuly')\n",
        "print('Done')"
      ],
      "metadata": {
        "cellView": "form",
        "id": "vll9u4cxVp8I"
      },
      "execution_count": null,
      "outputs": []
    },
    {
      "cell_type": "code",
      "source": [
        "#@title Download the docking log file\n",
        "#@markdown download the receptor file and the log file to your local machine to be able to visualize the docking results\n",
        "from google.colab import files\n",
        "files.download('receptor.dlg')\n",
        "files.download('receptor.pdbqt')\n",
        "print('files downloaded successfuly')"
      ],
      "metadata": {
        "colab": {
          "base_uri": "https://localhost:8080/",
          "height": 17
        },
        "cellView": "form",
        "id": "heza6pthWLP7",
        "outputId": "0d049ed8-ff0a-40fe-b92f-cc8e0a5eccc7"
      },
      "execution_count": null,
      "outputs": [
        {
          "output_type": "display_data",
          "data": {
            "text/plain": [
              "<IPython.core.display.Javascript object>"
            ],
            "application/javascript": [
              "\n",
              "    async function download(id, filename, size) {\n",
              "      if (!google.colab.kernel.accessAllowed) {\n",
              "        return;\n",
              "      }\n",
              "      const div = document.createElement('div');\n",
              "      const label = document.createElement('label');\n",
              "      label.textContent = `Downloading \"${filename}\": `;\n",
              "      div.appendChild(label);\n",
              "      const progress = document.createElement('progress');\n",
              "      progress.max = size;\n",
              "      div.appendChild(progress);\n",
              "      document.body.appendChild(div);\n",
              "\n",
              "      const buffers = [];\n",
              "      let downloaded = 0;\n",
              "\n",
              "      const channel = await google.colab.kernel.comms.open(id);\n",
              "      // Send a message to notify the kernel that we're ready.\n",
              "      channel.send({})\n",
              "\n",
              "      for await (const message of channel.messages) {\n",
              "        // Send a message to notify the kernel that we're ready.\n",
              "        channel.send({})\n",
              "        if (message.buffers) {\n",
              "          for (const buffer of message.buffers) {\n",
              "            buffers.push(buffer);\n",
              "            downloaded += buffer.byteLength;\n",
              "            progress.value = downloaded;\n",
              "          }\n",
              "        }\n",
              "      }\n",
              "      const blob = new Blob(buffers, {type: 'application/binary'});\n",
              "      const a = document.createElement('a');\n",
              "      a.href = window.URL.createObjectURL(blob);\n",
              "      a.download = filename;\n",
              "      div.appendChild(a);\n",
              "      a.click();\n",
              "      div.remove();\n",
              "    }\n",
              "  "
            ]
          },
          "metadata": {}
        },
        {
          "output_type": "display_data",
          "data": {
            "text/plain": [
              "<IPython.core.display.Javascript object>"
            ],
            "application/javascript": [
              "download(\"download_ca6e288a-0038-431c-a4b7-6a7df670d9e7\", \"receptor.dlg\", 59722)"
            ]
          },
          "metadata": {}
        }
      ]
    }
  ]
}