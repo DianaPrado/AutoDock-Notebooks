{
  "nbformat": 4,
  "nbformat_minor": 0,
  "metadata": {
    "colab": {
      "provenance": [],
      "gpuType": "T4",
      "include_colab_link": true
    },
    "kernelspec": {
      "name": "python3",
      "display_name": "Python 3"
    },
    "language_info": {
      "name": "python"
    },
    "accelerator": "GPU"
  },
  "cells": [
    {
      "cell_type": "markdown",
      "metadata": {
        "id": "view-in-github",
        "colab_type": "text"
      },
      "source": [
        "<a href=\"https://colab.research.google.com/github/mabdelmaksoud53/VinaDock-Notebooks/blob/main/Multiple_ligand_docking.ipynb\" target=\"_parent\"><img src=\"https://colab.research.google.com/assets/colab-badge.svg\" alt=\"Open In Colab\"/></a>"
      ]
    },
    {
      "cell_type": "markdown",
      "source": [
        "## Hello there!\n",
        "- This is a Jupyter notebook for running Multiple ligand Docking using AutoDock vina software. I am encourage you to watch the tutorial before using this pipeline.\n",
        "- The main goal of this notebook is to demonstrate how to perform molecular docking using an open source software in a cheap and yet feasible fashion 🚀.\n",
        "---\n",
        "\n",
        "**Introduction**\n",
        "- AutoDock Vina is a widely used open-source docking engine known for its speed and efficiency. Developed by Dr. Oleg Trott in the Molecular Graphics Lab, it employs a straightforward scoring function and rapid gradient-based conformational search. The Forli Lab at The Scripps Research Institute currently maintains and develops this powerful tool.\n",
        "---\n",
        "\n",
        "**Importance of Molecular Docking**\n",
        "- Molecular docking is crucial in drug discovery, allowing researchers to predict how small molecules, such as drugs, bind to a receptor of known 3D structure. It helps in identifying potential drug candidates by screening large libraries of compounds.\n",
        "- It provides insights into the binding interactions between ligands and proteins. This understanding is essential for designing more effective drugs with higher affinity and specificity.\n",
        "- By simulating the docking process, molecular docking reduces the need for expensive and time-consuming experimental procedures in the initial stages of drug development.\n",
        "- Docking helps predict the binding affinity of ligands to their target proteins, which is important for evaluating the potential efficacy of drug candidates.\n",
        "- It enables the virtual screening of large compound libraries, accelerating the identification of promising lead compounds.\n",
        "- Molecular docking can be used to optimize the structure of lead compounds by predicting how structural changes will affect binding affinity and specificity.\n",
        "---\n",
        "\n",
        "**License**\n",
        "- Copyright (c) 2024 Mostafa S. Abd El-Maksoud\n"
      ],
      "metadata": {
        "id": "5fK55-7RIFlN"
      }
    },
    {
      "cell_type": "markdown",
      "source": [
        "# **Using Google Drive to store data**\n",
        "\n",
        "We can use Google Drive to read, write, and store our files because Google Colab does not allow users to keep data on their computing nodes.\n",
        "Therfore we will:\n",
        "1.   Import Google Drive.\n",
        "2.   Create a folder in your own Google Drive to store and keep data."
      ],
      "metadata": {
        "id": "RSKNbD5tJqKw"
      }
    },
    {
      "cell_type": "code",
      "source": [
        "#@title **Mount Google Drive and creat Docking folder**\n",
        "#@markdown it will ask you to authorize your drive, Plz confirm\n",
        "from google.colab import drive\n",
        "drive.mount ('/content/drive')\n",
        "print(\"Google Drive mounted successfully\")"
      ],
      "metadata": {
        "cellView": "form",
        "id": "shbM_fvxCzy1"
      },
      "execution_count": null,
      "outputs": []
    },
    {
      "cell_type": "code",
      "source": [
        "#@title Create a docking Folder in Google Drive\n",
        "#@markdown when you run this code it will ask you to enter your desired name\n",
        "# Ask the user for the folder name\n",
        "folder_name = input(\"Enter the desired folder name: \")\n",
        "\n",
        "# Create the folder\n",
        "import os\n",
        "os.makedirs(f'/content/drive/My Drive/{folder_name}')\n",
        "folder_path = f'/content/drive/My Drive/{folder_name}'\n",
        "print(f\"Folder '{folder_name}' created successfully!\")\n",
        "\n",
        "# Change the current working directory to the newly created folder\n",
        "os.chdir(folder_path)\n",
        "print(f\"Current working directory is: {os.getcwd()}\")"
      ],
      "metadata": {
        "cellView": "form",
        "id": "A8QBZdqdC7Kc"
      },
      "execution_count": null,
      "outputs": []
    },
    {
      "cell_type": "code",
      "source": [
        "#@title Upload Protein File to Google Drive\n",
        "#@markdown 1. Upload protein file in PDBQT format.\n",
        "from google.colab import files\n",
        "uploaded = files.upload()\n",
        "print(\"Protein uploaded successfuly\")"
      ],
      "metadata": {
        "cellView": "form",
        "id": "O3em91e2DBTU"
      },
      "execution_count": null,
      "outputs": []
    },
    {
      "cell_type": "code",
      "source": [
        "#@title Upload Ligand Files to Google Drive\n",
        "#@markdown 1. Upload ligand file in PDBQT format.\n",
        "ligand_folder = input(\"Enter the desired folder name: \")\n",
        "os.makedirs(f'/content/drive/My Drive/{folder_name}/{ligand_folder}')\n",
        "os.chdir(f'/content/drive/My Drive/{folder_name}/{ligand_folder}')\n",
        "from google.colab import files\n",
        "uploaded = files.upload()\n",
        "os.chdir(f'/content/drive/My Drive/{folder_name}')\n",
        "print(\"Ligands uploaded successfuly\")"
      ],
      "metadata": {
        "cellView": "form",
        "id": "ANWwTv2UDM8l"
      },
      "execution_count": null,
      "outputs": []
    },
    {
      "cell_type": "markdown",
      "source": [
        "---\n",
        "# **Setting the environment for molecular docking**\n",
        "\n",
        "Firstly, we need to install softwares required for md simulation. The main softwares we will be installing are:\n",
        "\n",
        "1.    AutoDock vina (https://vina.scripps.edu/)"
      ],
      "metadata": {
        "id": "R37GP4elJ6i-"
      }
    },
    {
      "cell_type": "code",
      "source": [
        "#@title **Install Dependencies**\n",
        "#@markdown Install AutoDock vina\n",
        "!apt-get -qq install -y autodock-vina\n",
        "print(\"AutoDock vina installed successfuly\")"
      ],
      "metadata": {
        "cellView": "form",
        "id": "kOP97DP6DvF5"
      },
      "execution_count": null,
      "outputs": []
    },
    {
      "cell_type": "code",
      "source": [
        "#@title **create config file**\n",
        "#@markdown enter grid box center, size, exhaustiveness, and Number of Modes\n",
        "center_x = input('center_x: ')\n",
        "center_y = input('center_y: ')\n",
        "center_z = input('center_z: ')\n",
        "size_x = input('size_x: ')\n",
        "size_y = input('size_y: ')\n",
        "size_z = input('size_z: ')\n",
        "# Write the input values to config.txt\n",
        "with open('config.txt', 'w') as file:\n",
        "    file.write(f'center_x = {center_x}\\n')\n",
        "    file.write(f'center_y = {center_y}\\n')\n",
        "    file.write(f'center_z = {center_z}\\n')\n",
        "    file.write(f'size_x = {size_x}\\n')\n",
        "    file.write(f'size_y = {size_y}\\n')\n",
        "    file.write(f'size_z = {size_z}\\n')\n",
        "print(\"config file created sucessfully\")"
      ],
      "metadata": {
        "cellView": "form",
        "id": "DiANgDuXD0Z6"
      },
      "execution_count": null,
      "outputs": []
    },
    {
      "cell_type": "code",
      "source": [
        "#@title **Creating the multiple ligand docking script**\n",
        "#@markdown Sh script\n",
        "print(\"AutoDock vina installed successfuly\")\n",
        "# Prompt the user for the name of the .sh file\n",
        "sh_file_name = input('Enter the name of the .sh file (without extension): ') + '.sh'\n",
        "\n",
        "# Prompt the user for the ligand directory path\n",
        "ligand_path = input('Enter the full path to the ligand directory: ')\n",
        "\n",
        "# Define the content of the .sh file\n",
        "sh_content = f\"\"\"#!/bin/bash\n",
        "\n",
        "# Change to the ligands directory\n",
        "cd {ligand_path}\n",
        "\n",
        "# Loop through each ligand file and run AutoDock Vina\n",
        " for ligand_file in *.pdbqt; do\n",
        "     ligand_name=$(basename \"$ligand_file\" .pdbqt)\n",
        "     vina --receptor ../protein.pdbqt --config ../config.txt --ligand \"$ligand_file\" --out \"${{ligand_name}}_out.pdbqt\" --cpu 8\n",
        "  done\n",
        " \"\"\"\n",
        "\n",
        "# # Write the content to the .sh file\n",
        "with open(sh_file_name, 'w') as file:\n",
        "     file.write(sh_content)\n",
        "\n",
        "# Make the .sh file executable\n",
        "import os\n",
        "os.chmod(sh_file_name, 0o755)\n",
        "\n",
        "print(f\"Shell script {sh_file_name} created and made executable.\")\n"
      ],
      "metadata": {
        "cellView": "form",
        "id": "WJFIpSklFQMp"
      },
      "execution_count": null,
      "outputs": []
    },
    {
      "cell_type": "code",
      "source": [
        "#@title **Run AutoDock vina**\n",
        "#@markdown after docking process finish navigate your drive you will fined the output and log file\n",
        "!bash script.sh\n",
        "print('docking completed successfuly')"
      ],
      "metadata": {
        "cellView": "form",
        "id": "AMphD4j9F3K0"
      },
      "execution_count": null,
      "outputs": []
    }
  ]
}